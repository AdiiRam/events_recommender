{
 "cells": [
  {
   "cell_type": "code",
   "execution_count": 1,
   "metadata": {
    "collapsed": true
   },
   "outputs": [],
   "source": [
    "import matplotlib\n",
    "import pandas as pd\n",
    "from dateutil.parser import *\n",
    "from sklearn.cluster import KMeans\n",
    "from sklearn.preprocessing import LabelEncoder\n",
    "%matplotlib inline"
   ]
  },
  {
   "cell_type": "code",
   "execution_count": 15,
   "metadata": {
    "collapsed": true
   },
   "outputs": [],
   "source": [
    "# Read the CSV File into a Dataframe \n",
    "events_dataset = './events_recommender/resources/events_preclustering.csv'"
   ]
  },
  {
   "cell_type": "code",
   "execution_count": 16,
   "metadata": {
    "collapsed": true
   },
   "outputs": [],
   "source": [
    "# Load the CSV File into a Pandas Dataframe \n",
    "events_df = pd.read_csv(events_dataset)"
   ]
  },
  {
   "cell_type": "code",
   "execution_count": 17,
   "metadata": {},
   "outputs": [
    {
     "name": "stdout",
     "output_type": "stream",
     "text": [
      "<class 'pandas.core.frame.DataFrame'>\n",
      "RangeIndex: 790 entries, 0 to 789\n",
      "Data columns (total 9 columns):\n",
      "event_edition_id     790 non-null int64\n",
      "event_name           790 non-null object\n",
      "event_category       790 non-null object\n",
      "registration_type    790 non-null object\n",
      "start_date           790 non-null object\n",
      "end_date             790 non-null object\n",
      "venue                772 non-null object\n",
      "city                 772 non-null object\n",
      "event_tags           687 non-null object\n",
      "dtypes: int64(1), object(8)\n",
      "memory usage: 55.6+ KB\n"
     ]
    }
   ],
   "source": [
    "events_df.info()"
   ]
  },
  {
   "cell_type": "code",
   "execution_count": 18,
   "metadata": {
    "collapsed": true
   },
   "outputs": [],
   "source": [
    "# Map the start_date to Seasons \n",
    "def date_to_season(given_dt):    \n",
    "    winter = [12,1,2]\n",
    "    spring = [3,4,5]\n",
    "    summer = [6,7,8]\n",
    "    autumn = [9,10,11]            \n",
    "    try:\n",
    "        dt = parse(given_dt)\n",
    "        start_month = dt.month\n",
    "        \n",
    "        if start_month in winter:\n",
    "            return 'winter'\n",
    "        elif start_month in spring:\n",
    "            return 'spring'\n",
    "        elif start_month in summer:\n",
    "            return 'summer'\n",
    "        elif start_month in autumn:\n",
    "            return 'autumn'\n",
    "    except Exception as err:\n",
    "        return 'autumn'\n"
   ]
  },
  {
   "cell_type": "code",
   "execution_count": 19,
   "metadata": {
    "collapsed": true
   },
   "outputs": [],
   "source": [
    "events_df['season'] = events_df['start_date'].map(date_to_season)"
   ]
  },
  {
   "cell_type": "code",
   "execution_count": 20,
   "metadata": {},
   "outputs": [
    {
     "data": {
      "text/plain": [
       "event_edition_id     790\n",
       "event_name           790\n",
       "event_category       790\n",
       "registration_type    790\n",
       "start_date           790\n",
       "end_date             790\n",
       "venue                772\n",
       "city                 772\n",
       "event_tags           687\n",
       "season               790\n",
       "dtype: int64"
      ]
     },
     "execution_count": 20,
     "metadata": {},
     "output_type": "execute_result"
    }
   ],
   "source": [
    "events_df.count()"
   ]
  },
  {
   "cell_type": "markdown",
   "metadata": {},
   "source": [
    "### Clustering the Events Dataset "
   ]
  },
  {
   "cell_type": "code",
   "execution_count": 21,
   "metadata": {},
   "outputs": [
    {
     "name": "stdout",
     "output_type": "stream",
     "text": [
      "<class 'pandas.core.frame.DataFrame'>\n",
      "RangeIndex: 790 entries, 0 to 789\n",
      "Data columns (total 12 columns):\n",
      "event_edition_id         790 non-null int64\n",
      "event_name               790 non-null object\n",
      "event_category           790 non-null object\n",
      "registration_type        790 non-null object\n",
      "start_date               790 non-null object\n",
      "end_date                 790 non-null object\n",
      "venue                    772 non-null object\n",
      "city                     772 non-null object\n",
      "event_tags               687 non-null object\n",
      "season                   790 non-null int64\n",
      "event_category_num       790 non-null int64\n",
      "registration_type_num    790 non-null int64\n",
      "dtypes: int64(4), object(8)\n",
      "memory usage: 74.1+ KB\n"
     ]
    }
   ],
   "source": [
    "# Converting the Categorical Data to Numerical Values \n",
    "labelEncoder = LabelEncoder()\n",
    "\n",
    "# Convert event_category \n",
    "labelEncoder.fit(events_df['event_category'])\n",
    "events_df['event_category_num'] = labelEncoder.transform(events_df['event_category'])\n",
    "\n",
    "# Convert registration_type \n",
    "labelEncoder.fit(events_df['registration_type'])\n",
    "events_df['registration_type_num'] = labelEncoder.transform(events_df['registration_type'])\n",
    "\n",
    "# Convert season \n",
    "labelEncoder.fit(events_df['season'])\n",
    "events_df['season'] = labelEncoder.transform(events_df['season'])\n",
    "\n",
    "# Drop the column start_date \n",
    "#events_df = events_df.drop('start_date',axis=1)\n",
    "\n",
    "# Drop the registration type \n",
    "#events_df = events_df.drop('registration_type',axis=1)\n",
    "\n",
    "#events_df = events_df.drop('event_edition_id',axis=1)\n",
    "\n",
    "events_df.info()"
   ]
  },
  {
   "cell_type": "code",
   "execution_count": 22,
   "metadata": {},
   "outputs": [
    {
     "name": "stdout",
     "output_type": "stream",
     "text": [
      "<class 'pandas.core.frame.DataFrame'>\n",
      "RangeIndex: 790 entries, 0 to 789\n",
      "Data columns (total 3 columns):\n",
      "event_category_num       790 non-null int64\n",
      "registration_type_num    790 non-null int64\n",
      "season                   790 non-null int64\n",
      "dtypes: int64(3)\n",
      "memory usage: 18.6 KB\n"
     ]
    },
    {
     "data": {
      "text/plain": [
       "KMeans(algorithm='auto', copy_x=True, init='k-means++', max_iter=300,\n",
       "       n_clusters=7, n_init=10, n_jobs=None, precompute_distances='auto',\n",
       "       random_state=None, tol=0.0001, verbose=0)"
      ]
     },
     "execution_count": 22,
     "metadata": {},
     "output_type": "execute_result"
    }
   ],
   "source": [
    "# Do the Clustering \n",
    "tocluster_df = events_df[['event_category_num','registration_type_num','season']]\n",
    "tocluster_df.info()\n",
    "kmeans = KMeans(n_clusters=7)\n",
    "kmeans.fit(tocluster_df)"
   ]
  },
  {
   "cell_type": "code",
   "execution_count": 23,
   "metadata": {},
   "outputs": [
    {
     "name": "stdout",
     "output_type": "stream",
     "text": [
      "<class 'pandas.core.frame.DataFrame'>\n",
      "RangeIndex: 790 entries, 0 to 789\n",
      "Data columns (total 13 columns):\n",
      "event_edition_id         790 non-null int64\n",
      "event_name               790 non-null object\n",
      "event_category           790 non-null object\n",
      "registration_type        790 non-null object\n",
      "start_date               790 non-null object\n",
      "end_date                 790 non-null object\n",
      "venue                    772 non-null object\n",
      "city                     772 non-null object\n",
      "event_tags               687 non-null object\n",
      "season                   790 non-null int64\n",
      "event_category_num       790 non-null int64\n",
      "registration_type_num    790 non-null int64\n",
      "cluster                  790 non-null int32\n",
      "dtypes: int32(1), int64(4), object(8)\n",
      "memory usage: 77.2+ KB\n"
     ]
    }
   ],
   "source": [
    "cluster_labels = kmeans.labels_\n",
    "events_df['cluster'] = cluster_labels\n",
    "events_df.info()"
   ]
  },
  {
   "cell_type": "code",
   "execution_count": 24,
   "metadata": {},
   "outputs": [
    {
     "data": {
      "text/plain": [
       "<matplotlib.axes._subplots.AxesSubplot at 0x7ffac9fd3b38>"
      ]
     },
     "execution_count": 24,
     "metadata": {},
     "output_type": "execute_result"
    },
    {
     "data": {
      "image/png": "[encoded data removed]",
      "text/plain": [
       "<Figure size 432x288 with 1 Axes>"
      ]
     },
     "metadata": {},
     "output_type": "display_data"
    }
   ],
   "source": [
    "# Group the Events by the Cluster \n",
    "events_df.groupby('cluster')['cluster'].count().plot.pie(autopct='%1.1f%%',startangle=90)"
   ]
  },
  {
   "cell_type": "code",
   "execution_count": 25,
   "metadata": {
    "collapsed": true
   },
   "outputs": [],
   "source": [
    "# Save the Dataframe to CSV \n",
    "events_clusters = '/home/ubuntu/projects/PersonalSpace/Eventjini/retechnicaltask/events_clusters.csv'\n",
    "\n",
    "events_df.to_csv(events_clusters,index=False)"
   ]
  }
 ],
 "metadata": {
  "kernelspec": {
   "display_name": "eventjinik",
   "language": "python",
   "name": "eventjinik"
  },
  "language_info": {
   "codemirror_mode": {
    "name": "ipython",
    "version": 3
   },
   "file_extension": ".py",
   "mimetype": "text/x-python",
   "name": "python",
   "nbconvert_exporter": "python",
   "pygments_lexer": "ipython3",
   "version": "3.6.3"
  }
 },
 "nbformat": 4,
 "nbformat_minor": 2
}
